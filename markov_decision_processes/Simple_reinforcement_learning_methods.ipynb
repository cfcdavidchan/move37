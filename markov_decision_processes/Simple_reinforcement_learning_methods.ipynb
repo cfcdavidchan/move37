{
 "cells": [
  {
   "cell_type": "markdown",
   "metadata": {},
   "source": [
    "# Simple reinforcement learning methods to learn CartPole"
   ]
  },
  {
   "cell_type": "markdown",
   "metadata": {},
   "source": [
    "### Basic environment and numpy knowledge"
   ]
  },
  {
   "cell_type": "markdown",
   "metadata": {},
   "source": [
    "Defining a 4 x1 vector of weights, each weight corresponding to one of the observations. Start off by initializing them randomly between [-1, 1].\n",
    "\n",
    "```python\n",
    "import numpy as np\n",
    "parameters = np.random.rand(4) * 2 -1\n",
    "```"
   ]
  },
  {
   "cell_type": "markdown",
   "metadata": {},
   "source": [
    "Each weight is multiplied by its respective observation, and the products are summed up. This is equivalent to performing an inner product (matrix multiplication) of the two vectors. If the total is less than 0, we move left. Otherwise, we move right.\n",
    "\n",
    "```python\n",
    "action = 0 if np.matmul(parameters,observation) < 0 else 1\n",
    "```"
   ]
  },
  {
   "cell_type": "markdown",
   "metadata": {},
   "source": [
    "For every timestep we keep the pole straight, we get +1 reward. Therefore, to estimate how good a given set of weights is, we can just run an episode until the pole drops and see how much reward we got."
   ]
  },
  {
   "cell_type": "code",
   "execution_count": 79,
   "metadata": {},
   "outputs": [],
   "source": [
    "def run_episode(env, parameters):  \n",
    "    observation = env.reset()\n",
    "    totalreward = 0\n",
    "    for _ in range(200):\n",
    "        action = 0 if np.matmul(parameters,observation) < 0 else 1\n",
    "        observation, reward, done, info = env.step(action)\n",
    "        totalreward += reward\n",
    "        if done:\n",
    "            break\n",
    "    return totalreward"
   ]
  },
  {
   "cell_type": "markdown",
   "metadata": {},
   "source": [
    "### Random Search\n",
    "\n",
    "Keep trying random weights, and pick the one that performs the best."
   ]
  },
  {
   "cell_type": "code",
   "execution_count": null,
   "metadata": {},
   "outputs": [],
   "source": [
    "import gym\n",
    "import numpy as np\n",
    "import matplotlib.pyplot as plt\n",
    "\n",
    "env = gym.make('CartPole-v0')\n",
    "bestparams = None  \n",
    "bestreward = 0\n",
    "episodes_result = []\n",
    "\n",
    "for test in range(1000):\n",
    "    for _ in range(10000):  \n",
    "        parameters = np.random.rand(4) * 2 - 1\n",
    "        reward = run_episode(env,parameters)\n",
    "        if reward > bestreward:\n",
    "            bestreward = reward\n",
    "            bestparams = parameters\n",
    "            # considered solved if the agent lasts 200 timesteps\n",
    "            if reward == 200:\n",
    "                episodes_result.append(_)\n",
    "                break"
   ]
  },
  {
   "cell_type": "code",
   "execution_count": 90,
   "metadata": {},
   "outputs": [
    {
     "data": {
      "image/png": "[encoded data removed]",
      "text/plain": [
       "<Figure size 432x288 with 1 Axes>"
      ]
     },
     "metadata": {
      "needs_background": "light"
     },
     "output_type": "display_data"
    }
   ],
   "source": [
    "plt.hist(episodes_result, density=False, bins=30)\n",
    "plt.ylabel('Frequency');\n",
    "plt.xlabel('Episodes required to reeach 200');"
   ]
  },
  {
   "cell_type": "markdown",
   "metadata": {},
   "source": [
    "### Hill-Climbing\n",
    "Starting with some randomly chosen initial weights. Every episode, add some noise to the weights, and keep the new weights if the agent improves."
   ]
  },
  {
   "cell_type": "code",
   "execution_count": null,
   "metadata": {},
   "outputs": [],
   "source": [
    "env = gym.make('CartPole-v0')\n",
    "\n",
    "episodes_per_update = 5\n",
    "noise_scaling = 0.1  \n",
    "parameters = np.random.rand(4) * 2 - 1  \n",
    "bestreward = 0  \n",
    "for _ in range(10000):  \n",
    "    newparams = parameters + (np.random.rand(4) * 2 - 1)*noise_scaling\n",
    "    \n",
    "    reward = 0  \n",
    "    for i in range(episodes_per_update):\n",
    "        #Instead of only running one episode to measure how good a set of weights is, we run it multiple times and sum up the rewards. \n",
    "        run = run_episode(env,newparams)\n",
    "        reward += run\n",
    "    \n",
    "    reward = run_episode(env,newparams)\n",
    "    \n",
    "    if reward > bestreward:\n",
    "        bestreward = reward\n",
    "        parameters = newparams\n",
    "        if reward == 200:\n",
    "            break"
   ]
  }
 ],
 "metadata": {
  "kernelspec": {
   "display_name": "Python [conda env:move37]",
   "language": "python",
   "name": "conda-env-move37-py"
  },
  "language_info": {
   "codemirror_mode": {
    "name": "ipython",
    "version": 3
   },
   "file_extension": ".py",
   "mimetype": "text/x-python",
   "name": "python",
   "nbconvert_exporter": "python",
   "pygments_lexer": "ipython3",
   "version": "3.5.6"
  }
 },
 "nbformat": 4,
 "nbformat_minor": 2
}
